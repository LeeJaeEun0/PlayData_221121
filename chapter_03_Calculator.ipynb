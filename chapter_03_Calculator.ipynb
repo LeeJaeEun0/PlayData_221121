{
 "cells": [
  {
   "cell_type": "markdown",
   "id": "c485560d",
   "metadata": {},
   "source": [
    "# 3. 연산"
   ]
  },
  {
   "cell_type": "markdown",
   "id": "033254b1",
   "metadata": {},
   "source": [
    "## 3.1 간단한 사칙연산"
   ]
  },
  {
   "cell_type": "markdown",
   "id": "6ab188f4",
   "metadata": {},
   "source": [
    "### 덧셈과 뺄셈"
   ]
  },
  {
   "cell_type": "code",
   "execution_count": 2,
   "id": "c043cea9",
   "metadata": {},
   "outputs": [
    {
     "data": {
      "text/plain": [
       "2"
      ]
     },
     "execution_count": 2,
     "metadata": {},
     "output_type": "execute_result"
    }
   ],
   "source": [
    "1 + 1"
   ]
  },
  {
   "cell_type": "code",
   "execution_count": 3,
   "id": "8c0bb8df",
   "metadata": {},
   "outputs": [
    {
     "data": {
      "text/plain": [
       "3"
      ]
     },
     "execution_count": 3,
     "metadata": {},
     "output_type": "execute_result"
    }
   ],
   "source": [
    "5 - 2"
   ]
  },
  {
   "cell_type": "markdown",
   "id": "f8dadc74",
   "metadata": {},
   "source": [
    "### 곱셈과 나눗셈"
   ]
  },
  {
   "cell_type": "code",
   "execution_count": 4,
   "id": "b6e616a5",
   "metadata": {},
   "outputs": [
    {
     "data": {
      "text/plain": [
       "30"
      ]
     },
     "execution_count": 4,
     "metadata": {},
     "output_type": "execute_result"
    }
   ],
   "source": [
    "15 * 2"
   ]
  },
  {
   "cell_type": "code",
   "execution_count": 5,
   "id": "7cb23d6b",
   "metadata": {},
   "outputs": [
    {
     "data": {
      "text/plain": [
       "5.0"
      ]
     },
     "execution_count": 5,
     "metadata": {},
     "output_type": "execute_result"
    }
   ],
   "source": [
    "10 / 2  # 파이썬은 나누기 결과를 실수로"
   ]
  },
  {
   "cell_type": "markdown",
   "id": "c1eb21a2",
   "metadata": {},
   "source": [
    "### 정수와 실수\n",
    "\n",
    "#### 정수: 자연수와 음수 그리고 0\n",
    "\n",
    "#### 실수: 유리수와 무리수"
   ]
  },
  {
   "cell_type": "code",
   "execution_count": 7,
   "id": "fdaf1831",
   "metadata": {},
   "outputs": [
    {
     "data": {
      "text/plain": [
       "6.5"
      ]
     },
     "execution_count": 7,
     "metadata": {},
     "output_type": "execute_result"
    }
   ],
   "source": [
    "1.2 + 5.3"
   ]
  },
  {
   "cell_type": "code",
   "execution_count": 8,
   "id": "85e9d75a",
   "metadata": {},
   "outputs": [
    {
     "data": {
      "text/plain": [
       "2.8"
      ]
     },
     "execution_count": 8,
     "metadata": {},
     "output_type": "execute_result"
    }
   ],
   "source": [
    "1.4 * 2"
   ]
  },
  {
   "cell_type": "code",
   "execution_count": 9,
   "id": "55eb868c",
   "metadata": {},
   "outputs": [
    {
     "data": {
      "text/plain": [
       "2.5"
      ]
     },
     "execution_count": 9,
     "metadata": {},
     "output_type": "execute_result"
    }
   ],
   "source": [
    "5 / 2"
   ]
  },
  {
   "cell_type": "markdown",
   "id": "c5777c64",
   "metadata": {},
   "source": [
    "### 복잡한 연산\n",
    "\n",
    "#### 연산 규칙 : 괄호 > 지수 > 곱셈과 나눗셈 > 덧셈과 뺄셈"
   ]
  },
  {
   "cell_type": "code",
   "execution_count": 10,
   "id": "7f8118d1",
   "metadata": {},
   "outputs": [
    {
     "data": {
      "text/plain": [
       "14"
      ]
     },
     "execution_count": 10,
     "metadata": {},
     "output_type": "execute_result"
    }
   ],
   "source": [
    "2 + 3 * 4"
   ]
  },
  {
   "cell_type": "code",
   "execution_count": 11,
   "id": "434e0ba2",
   "metadata": {},
   "outputs": [
    {
     "data": {
      "text/plain": [
       "3.5"
      ]
     },
     "execution_count": 11,
     "metadata": {},
     "output_type": "execute_result"
    }
   ],
   "source": [
    "3 / 2 * 4 - 5 / 2 "
   ]
  },
  {
   "cell_type": "code",
   "execution_count": 12,
   "id": "8ac06a7b",
   "metadata": {},
   "outputs": [
    {
     "data": {
      "text/plain": [
       "8.0"
      ]
     },
     "execution_count": 12,
     "metadata": {},
     "output_type": "execute_result"
    }
   ],
   "source": [
    "10 / 5 + (5 - 2) * 2"
   ]
  },
  {
   "cell_type": "code",
   "execution_count": 13,
   "id": "7e1ae344",
   "metadata": {},
   "outputs": [
    {
     "data": {
      "text/plain": [
       "11"
      ]
     },
     "execution_count": 13,
     "metadata": {},
     "output_type": "execute_result"
    }
   ],
   "source": [
    "( 5 * 4 - 15 ) +( ( 5 - 2 ) * ( 9 - 7 ))"
   ]
  },
  {
   "cell_type": "code",
   "execution_count": 16,
   "id": "eb763831",
   "metadata": {},
   "outputs": [
    {
     "data": {
      "text/plain": [
       "20"
      ]
     },
     "execution_count": 16,
     "metadata": {},
     "output_type": "execute_result"
    }
   ],
   "source": [
    "(2 + 3) * 4 # 문제 변형, 괄호를 먼저!!!"
   ]
  },
  {
   "cell_type": "code",
   "execution_count": 15,
   "id": "6573496a",
   "metadata": {},
   "outputs": [
    {
     "data": {
      "text/plain": [
       "1.5"
      ]
     },
     "execution_count": 15,
     "metadata": {},
     "output_type": "execute_result"
    }
   ],
   "source": [
    "3 / 2 * (7 - 5) / 2 "
   ]
  },
  {
   "cell_type": "code",
   "execution_count": 17,
   "id": "3f7b3bdb",
   "metadata": {},
   "outputs": [
    {
     "data": {
      "text/plain": [
       "-49"
      ]
     },
     "execution_count": 17,
     "metadata": {},
     "output_type": "execute_result"
    }
   ],
   "source": [
    " (5 * (4 - 15) ) +( ( 5 - 2 ) * ( 9 - 7 ))"
   ]
  },
  {
   "cell_type": "markdown",
   "id": "e6a08bf1",
   "metadata": {},
   "source": [
    "### 타입\n",
    "\n",
    "#### 함수: 기능을 수행하도록 작성된 코드의 묶음 함수명(인자)의 형식으로 이용"
   ]
  },
  {
   "cell_type": "code",
   "execution_count": 18,
   "id": "4deb7391",
   "metadata": {},
   "outputs": [
    {
     "data": {
      "text/plain": [
       "int"
      ]
     },
     "execution_count": 18,
     "metadata": {},
     "output_type": "execute_result"
    }
   ],
   "source": [
    "type(3) # 함수를 구분()를 통해서, 3은 정수"
   ]
  },
  {
   "cell_type": "code",
   "execution_count": 19,
   "id": "1a028e92",
   "metadata": {},
   "outputs": [
    {
     "data": {
      "text/plain": [
       "float"
      ]
     },
     "execution_count": 19,
     "metadata": {},
     "output_type": "execute_result"
    }
   ],
   "source": [
    "type(1.2) # 함수에 ()를 반드시 사용하며 1.2는 실수형"
   ]
  },
  {
   "cell_type": "markdown",
   "id": "762c9179",
   "metadata": {},
   "source": [
    "## 3.2 거듭 제곱과 나머지"
   ]
  },
  {
   "cell_type": "markdown",
   "id": "6d754083",
   "metadata": {},
   "source": [
    "### 거듭제곱(지수)\n",
    "#### 거듭제곱 연산자 = **"
   ]
  },
  {
   "cell_type": "code",
   "execution_count": 20,
   "id": "fdb896d4",
   "metadata": {},
   "outputs": [
    {
     "data": {
      "text/plain": [
       "32"
      ]
     },
     "execution_count": 20,
     "metadata": {},
     "output_type": "execute_result"
    }
   ],
   "source": [
    "2 * 2 * 2 * 2 * 2"
   ]
  },
  {
   "cell_type": "code",
   "execution_count": 21,
   "id": "91f59c45",
   "metadata": {},
   "outputs": [
    {
     "data": {
      "text/plain": [
       "32"
      ]
     },
     "execution_count": 21,
     "metadata": {},
     "output_type": "execute_result"
    }
   ],
   "source": [
    "2 ** 5 # 위 아래 같은 결과"
   ]
  },
  {
   "cell_type": "markdown",
   "id": "a9835fb1",
   "metadata": {},
   "source": [
    "#### 실수도 거듭제곱 가능"
   ]
  },
  {
   "cell_type": "code",
   "execution_count": 22,
   "id": "f78031c6",
   "metadata": {},
   "outputs": [
    {
     "data": {
      "text/plain": [
       "2.25"
      ]
     },
     "execution_count": 22,
     "metadata": {},
     "output_type": "execute_result"
    }
   ],
   "source": [
    "1.5 ** 2"
   ]
  },
  {
   "cell_type": "markdown",
   "id": "56a1c2c9",
   "metadata": {},
   "source": [
    "#### 지수가 정수가 아니어도 가능"
   ]
  },
  {
   "cell_type": "code",
   "execution_count": 23,
   "id": "b92aea26",
   "metadata": {},
   "outputs": [
    {
     "data": {
      "text/plain": [
       "1.4142135623730951"
      ]
     },
     "execution_count": 23,
     "metadata": {},
     "output_type": "execute_result"
    }
   ],
   "source": [
    "2 ** (1/2) # 루트와 관련 "
   ]
  },
  {
   "cell_type": "markdown",
   "id": "8ba8335d",
   "metadata": {},
   "source": [
    "### 나머지와 몫"
   ]
  },
  {
   "cell_type": "code",
   "execution_count": 24,
   "id": "622593f7",
   "metadata": {},
   "outputs": [
    {
     "data": {
      "text/plain": [
       "3"
      ]
     },
     "execution_count": 24,
     "metadata": {},
     "output_type": "execute_result"
    }
   ],
   "source": [
    "13 % 5 # 나머지"
   ]
  },
  {
   "cell_type": "code",
   "execution_count": 25,
   "id": "b0e94435",
   "metadata": {},
   "outputs": [
    {
     "data": {
      "text/plain": [
       "2"
      ]
     },
     "execution_count": 25,
     "metadata": {},
     "output_type": "execute_result"
    }
   ],
   "source": [
    "13 // 5 # 몫 - 소수점 제외? 그냥 몫"
   ]
  },
  {
   "cell_type": "code",
   "execution_count": 27,
   "id": "2a6a3b97",
   "metadata": {},
   "outputs": [
    {
     "data": {
      "text/plain": [
       "2.6"
      ]
     },
     "execution_count": 27,
     "metadata": {},
     "output_type": "execute_result"
    }
   ],
   "source": [
    "13 / 5  #몫 - 소수점까지"
   ]
  },
  {
   "cell_type": "markdown",
   "id": "72335677",
   "metadata": {},
   "source": [
    "#### 개인 실습"
   ]
  },
  {
   "cell_type": "code",
   "execution_count": 28,
   "id": "d57cccda",
   "metadata": {},
   "outputs": [
    {
     "data": {
      "text/plain": [
       "6"
      ]
     },
     "execution_count": 28,
     "metadata": {},
     "output_type": "execute_result"
    }
   ],
   "source": [
    "20 //3"
   ]
  },
  {
   "cell_type": "code",
   "execution_count": 29,
   "id": "76b90dbb",
   "metadata": {},
   "outputs": [
    {
     "data": {
      "text/plain": [
       "6.666666666666667"
      ]
     },
     "execution_count": 29,
     "metadata": {},
     "output_type": "execute_result"
    }
   ],
   "source": [
    "20 /3"
   ]
  },
  {
   "cell_type": "markdown",
   "id": "09918fb8",
   "metadata": {},
   "source": [
    "## 3.3 과학적 표기법"
   ]
  },
  {
   "cell_type": "code",
   "execution_count": 30,
   "id": "9395a106",
   "metadata": {},
   "outputs": [
    {
     "data": {
      "text/plain": [
       "300000000"
      ]
     },
     "execution_count": 30,
     "metadata": {},
     "output_type": "execute_result"
    }
   ],
   "source": [
    "3 * 10 ** 8"
   ]
  },
  {
   "cell_type": "markdown",
   "id": "c8afc9a4",
   "metadata": {},
   "source": [
    "#### 10의 거듭 제곱을 en 형식으로 편하게 입력가능\n",
    "#### 주의: 항상 숫자가 앞에 있어야 함 e8(x)"
   ]
  },
  {
   "cell_type": "code",
   "execution_count": 31,
   "id": "82f6dd48",
   "metadata": {},
   "outputs": [
    {
     "data": {
      "text/plain": [
       "300000000.0"
      ]
     },
     "execution_count": 31,
     "metadata": {},
     "output_type": "execute_result"
    }
   ],
   "source": [
    "3e8 #10의 제곱을 표현, e를 사용하면 실수형탤로 나옴."
   ]
  },
  {
   "cell_type": "markdown",
   "id": "f5ffc657",
   "metadata": {},
   "source": [
    "### 출력에서도 사용 됨"
   ]
  },
  {
   "cell_type": "code",
   "execution_count": 32,
   "id": "c3016f77",
   "metadata": {},
   "outputs": [
    {
     "data": {
      "text/plain": [
       "1000000000000000.0"
      ]
     },
     "execution_count": 32,
     "metadata": {},
     "output_type": "execute_result"
    }
   ],
   "source": [
    "1e15 # 10을 15번 곱함"
   ]
  },
  {
   "cell_type": "code",
   "execution_count": 33,
   "id": "e744af27",
   "metadata": {},
   "outputs": [
    {
     "data": {
      "text/plain": [
       "1e+16"
      ]
     },
     "execution_count": 33,
     "metadata": {},
     "output_type": "execute_result"
    }
   ],
   "source": [
    "1e16 #15번까지만 출력, 16부터 이렇게 보임 = 0이 16개 구낭"
   ]
  },
  {
   "cell_type": "code",
   "execution_count": 34,
   "id": "374fbf59",
   "metadata": {},
   "outputs": [
    {
     "data": {
      "text/plain": [
       "0.0001"
      ]
     },
     "execution_count": 34,
     "metadata": {},
     "output_type": "execute_result"
    }
   ],
   "source": [
    "1e-4 #반대로"
   ]
  },
  {
   "cell_type": "code",
   "execution_count": 35,
   "id": "afeb577d",
   "metadata": {},
   "outputs": [
    {
     "data": {
      "text/plain": [
       "1e-05"
      ]
     },
     "execution_count": 35,
     "metadata": {},
     "output_type": "execute_result"
    }
   ],
   "source": [
    "1e-5 # 소수는 5부터 이렇게 표현"
   ]
  },
  {
   "cell_type": "markdown",
   "id": "d0ab0974",
   "metadata": {},
   "source": [
    "## 3.4 진수 표현과 변환"
   ]
  },
  {
   "cell_type": "markdown",
   "id": "b43dd87a",
   "metadata": {},
   "source": [
    "#### 각 10 진법,  2진법, 8진법, 16진법 표기 후 10진법 출력"
   ]
  },
  {
   "cell_type": "code",
   "execution_count": 36,
   "id": "f4099a1a",
   "metadata": {},
   "outputs": [
    {
     "data": {
      "text/plain": [
       "17"
      ]
     },
     "execution_count": 36,
     "metadata": {},
     "output_type": "execute_result"
    }
   ],
   "source": [
    "17 # 10진법"
   ]
  },
  {
   "cell_type": "code",
   "execution_count": 38,
   "id": "af76bb88",
   "metadata": {},
   "outputs": [
    {
     "data": {
      "text/plain": [
       "17"
      ]
     },
     "execution_count": 38,
     "metadata": {},
     "output_type": "execute_result"
    }
   ],
   "source": [
    "0b10001 # 0b가 붙으면 2진법 표기"
   ]
  },
  {
   "cell_type": "code",
   "execution_count": 39,
   "id": "7717ca83",
   "metadata": {},
   "outputs": [
    {
     "data": {
      "text/plain": [
       "17"
      ]
     },
     "execution_count": 39,
     "metadata": {},
     "output_type": "execute_result"
    }
   ],
   "source": [
    "0o21 # 8진법"
   ]
  },
  {
   "cell_type": "code",
   "execution_count": 40,
   "id": "4b1e77e5",
   "metadata": {},
   "outputs": [
    {
     "data": {
      "text/plain": [
       "17"
      ]
     },
     "execution_count": 40,
     "metadata": {},
     "output_type": "execute_result"
    }
   ],
   "source": [
    "0x11 # 16진법"
   ]
  },
  {
   "cell_type": "markdown",
   "id": "1b59cc10",
   "metadata": {},
   "source": [
    "### 개인 실습"
   ]
  },
  {
   "cell_type": "code",
   "execution_count": 42,
   "id": "c42815f4",
   "metadata": {},
   "outputs": [
    {
     "data": {
      "text/plain": [
       "7"
      ]
     },
     "execution_count": 42,
     "metadata": {},
     "output_type": "execute_result"
    }
   ],
   "source": [
    "0b111 # 2진수에 대한 설명 # 자리수 16, 8,4,2,1 "
   ]
  },
  {
   "cell_type": "code",
   "execution_count": 52,
   "id": "a76ff1a6",
   "metadata": {},
   "outputs": [
    {
     "data": {
      "text/plain": [
       "31"
      ]
     },
     "execution_count": 52,
     "metadata": {},
     "output_type": "execute_result"
    }
   ],
   "source": [
    "0b11111"
   ]
  },
  {
   "cell_type": "code",
   "execution_count": 53,
   "id": "357b6cc7",
   "metadata": {},
   "outputs": [
    {
     "data": {
      "text/plain": [
       "22"
      ]
     },
     "execution_count": 53,
     "metadata": {},
     "output_type": "execute_result"
    }
   ],
   "source": [
    "0b10110"
   ]
  },
  {
   "cell_type": "code",
   "execution_count": 51,
   "id": "8cfa5cce",
   "metadata": {},
   "outputs": [
    {
     "data": {
      "text/plain": [
       "9"
      ]
     },
     "execution_count": 51,
     "metadata": {},
     "output_type": "execute_result"
    }
   ],
   "source": [
    "0o11 # 0o10 에서 0자리는 1의 자리라서 0-7까지 가능"
   ]
  },
  {
   "cell_type": "code",
   "execution_count": 55,
   "id": "d1b2e6ec",
   "metadata": {},
   "outputs": [
    {
     "data": {
      "text/plain": [
       "63"
      ]
     },
     "execution_count": 55,
     "metadata": {},
     "output_type": "execute_result"
    }
   ],
   "source": [
    "0o77"
   ]
  },
  {
   "cell_type": "code",
   "execution_count": 56,
   "id": "8d310719",
   "metadata": {},
   "outputs": [
    {
     "ename": "SyntaxError",
     "evalue": "invalid digit '8' in octal literal (1383543269.py, line 1)",
     "output_type": "error",
     "traceback": [
      "\u001b[1;36m  File \u001b[1;32m\"C:\\Users\\Playdata\\AppData\\Local\\Temp\\ipykernel_15784\\1383543269.py\"\u001b[1;36m, line \u001b[1;32m1\u001b[0m\n\u001b[1;33m    0o78\u001b[0m\n\u001b[1;37m       ^\u001b[0m\n\u001b[1;31mSyntaxError\u001b[0m\u001b[1;31m:\u001b[0m invalid digit '8' in octal literal\n"
     ]
    }
   ],
   "source": [
    "0o78 # 진법에서 자기 숫자인 8에서 다음자리에 올림!!! 주의!"
   ]
  },
  {
   "cell_type": "code",
   "execution_count": 57,
   "id": "e55d0c70",
   "metadata": {},
   "outputs": [
    {
     "data": {
      "text/plain": [
       "64"
      ]
     },
     "execution_count": 57,
     "metadata": {},
     "output_type": "execute_result"
    }
   ],
   "source": [
    "0o100"
   ]
  },
  {
   "cell_type": "code",
   "execution_count": 54,
   "id": "2515e568",
   "metadata": {},
   "outputs": [
    {
     "data": {
      "text/plain": [
       "15"
      ]
     },
     "execution_count": 54,
     "metadata": {},
     "output_type": "execute_result"
    }
   ],
   "source": [
    "0o17"
   ]
  },
  {
   "cell_type": "code",
   "execution_count": 49,
   "id": "60880bf5",
   "metadata": {},
   "outputs": [
    {
     "data": {
      "text/plain": [
       "17"
      ]
     },
     "execution_count": 49,
     "metadata": {},
     "output_type": "execute_result"
    }
   ],
   "source": [
    "0x011 # 16진법에서 10 =a, 11 = b , 12 = c, 13 = d, 14 = e, 15 = f"
   ]
  },
  {
   "cell_type": "code",
   "execution_count": 58,
   "id": "655af186",
   "metadata": {},
   "outputs": [
    {
     "data": {
      "text/plain": [
       "15"
      ]
     },
     "execution_count": 58,
     "metadata": {},
     "output_type": "execute_result"
    }
   ],
   "source": [
    "0xf"
   ]
  },
  {
   "cell_type": "code",
   "execution_count": 59,
   "id": "b48744ac",
   "metadata": {},
   "outputs": [
    {
     "data": {
      "text/plain": [
       "16"
      ]
     },
     "execution_count": 59,
     "metadata": {},
     "output_type": "execute_result"
    }
   ],
   "source": [
    "0x10"
   ]
  },
  {
   "cell_type": "code",
   "execution_count": 60,
   "id": "10c6973c",
   "metadata": {},
   "outputs": [
    {
     "data": {
      "text/plain": [
       "256"
      ]
     },
     "execution_count": 60,
     "metadata": {},
     "output_type": "execute_result"
    }
   ],
   "source": [
    "0x100"
   ]
  },
  {
   "cell_type": "code",
   "execution_count": 61,
   "id": "785030e0",
   "metadata": {},
   "outputs": [
    {
     "data": {
      "text/plain": [
       "4096"
      ]
     },
     "execution_count": 61,
     "metadata": {},
     "output_type": "execute_result"
    }
   ],
   "source": [
    "0x1000"
   ]
  },
  {
   "cell_type": "code",
   "execution_count": 62,
   "id": "012d0ad9",
   "metadata": {},
   "outputs": [
    {
     "data": {
      "text/plain": [
       "255"
      ]
     },
     "execution_count": 62,
     "metadata": {},
     "output_type": "execute_result"
    }
   ],
   "source": [
    "0xff"
   ]
  },
  {
   "cell_type": "markdown",
   "id": "bdce0381",
   "metadata": {},
   "source": [
    "### 2진법, 8진법, 16진법으로 출력됨(단, 문자열로 출력됨)"
   ]
  },
  {
   "cell_type": "code",
   "execution_count": 66,
   "id": "3bdc5a19",
   "metadata": {},
   "outputs": [
    {
     "data": {
      "text/plain": [
       "'0b10001'"
      ]
     },
     "execution_count": 66,
     "metadata": {},
     "output_type": "execute_result"
    }
   ],
   "source": [
    "bin(17) # 17(10)을 2진수로 "
   ]
  },
  {
   "cell_type": "code",
   "execution_count": 67,
   "id": "4f978cd1",
   "metadata": {},
   "outputs": [
    {
     "data": {
      "text/plain": [
       "17"
      ]
     },
     "execution_count": 67,
     "metadata": {},
     "output_type": "execute_result"
    }
   ],
   "source": [
    "0b10001 # 10진법으로 바꾸기"
   ]
  },
  {
   "cell_type": "code",
   "execution_count": 64,
   "id": "95715b1b",
   "metadata": {},
   "outputs": [
    {
     "data": {
      "text/plain": [
       "'0o21'"
      ]
     },
     "execution_count": 64,
     "metadata": {},
     "output_type": "execute_result"
    }
   ],
   "source": [
    "oct(17) # 17(10)을 8진수로 "
   ]
  },
  {
   "cell_type": "code",
   "execution_count": 68,
   "id": "64f78630",
   "metadata": {},
   "outputs": [
    {
     "data": {
      "text/plain": [
       "17"
      ]
     },
     "execution_count": 68,
     "metadata": {},
     "output_type": "execute_result"
    }
   ],
   "source": [
    "0o21 # 10진법으로 바꾸기"
   ]
  },
  {
   "cell_type": "code",
   "execution_count": 65,
   "id": "65575211",
   "metadata": {},
   "outputs": [
    {
     "data": {
      "text/plain": [
       "'0x11'"
      ]
     },
     "execution_count": 65,
     "metadata": {},
     "output_type": "execute_result"
    }
   ],
   "source": [
    "hex(17) # 17(10)을 16진수로 "
   ]
  },
  {
   "cell_type": "code",
   "execution_count": 69,
   "id": "2b8fb5d0",
   "metadata": {},
   "outputs": [
    {
     "data": {
      "text/plain": [
       "17"
      ]
     },
     "execution_count": 69,
     "metadata": {},
     "output_type": "execute_result"
    }
   ],
   "source": [
    "0x11 # 10진법으로 바꾸기"
   ]
  },
  {
   "cell_type": "markdown",
   "id": "1858675f",
   "metadata": {},
   "source": [
    "### 연산 후 변환함\n",
    "#### 문자열로 계산할 수 없음"
   ]
  },
  {
   "cell_type": "code",
   "execution_count": 71,
   "id": "4109ff55",
   "metadata": {},
   "outputs": [
    {
     "data": {
      "text/plain": [
       "22"
      ]
     },
     "execution_count": 71,
     "metadata": {},
     "output_type": "execute_result"
    }
   ],
   "source": [
    "0b10 * 0o10 + 0x10 -10 # 2 * 8 +16 -10 = 22"
   ]
  },
  {
   "cell_type": "code",
   "execution_count": 72,
   "id": "cfe6591c",
   "metadata": {},
   "outputs": [
    {
     "data": {
      "text/plain": [
       "'0b10110'"
      ]
     },
     "execution_count": 72,
     "metadata": {},
     "output_type": "execute_result"
    }
   ],
   "source": [
    "bin(0b10 * 0o10 + 0x10 -10) # 결과를 2진수로"
   ]
  },
  {
   "cell_type": "code",
   "execution_count": 73,
   "id": "a31b9108",
   "metadata": {},
   "outputs": [
    {
     "data": {
      "text/plain": [
       "'0o26'"
      ]
     },
     "execution_count": 73,
     "metadata": {},
     "output_type": "execute_result"
    }
   ],
   "source": [
    "oct(0b10 * 0o10 + 0x10 -10) # 결과를 8진수로"
   ]
  },
  {
   "cell_type": "code",
   "execution_count": 74,
   "id": "ea985cb2",
   "metadata": {},
   "outputs": [
    {
     "data": {
      "text/plain": [
       "'0x16'"
      ]
     },
     "execution_count": 74,
     "metadata": {},
     "output_type": "execute_result"
    }
   ],
   "source": [
    "hex(0b10 * 0o10 + 0x10 -10) # 결과를 16진수로"
   ]
  },
  {
   "cell_type": "code",
   "execution_count": 76,
   "id": "2071fe38",
   "metadata": {},
   "outputs": [
    {
     "ename": "TypeError",
     "evalue": "can't multiply sequence by non-int of type 'str'",
     "output_type": "error",
     "traceback": [
      "\u001b[1;31m---------------------------------------------------------------------------\u001b[0m",
      "\u001b[1;31mTypeError\u001b[0m                                 Traceback (most recent call last)",
      "\u001b[1;32m~\\AppData\\Local\\Temp\\ipykernel_15784\\835690150.py\u001b[0m in \u001b[0;36m<module>\u001b[1;34m\u001b[0m\n\u001b[1;32m----> 1\u001b[1;33m \u001b[0mbin\u001b[0m\u001b[1;33m(\u001b[0m\u001b[1;36m0x10\u001b[0m\u001b[1;33m)\u001b[0m \u001b[1;33m*\u001b[0m \u001b[0mhex\u001b[0m\u001b[1;33m(\u001b[0m\u001b[1;36m0b10\u001b[0m\u001b[1;33m)\u001b[0m \u001b[1;31m# 이런식의 오류 발생\u001b[0m\u001b[1;33m\u001b[0m\u001b[1;33m\u001b[0m\u001b[0m\n\u001b[0m",
      "\u001b[1;31mTypeError\u001b[0m: can't multiply sequence by non-int of type 'str'"
     ]
    }
   ],
   "source": [
    "bin(0x10) * hex(0b10) # 이런식의 오류 발생"
   ]
  },
  {
   "cell_type": "code",
   "execution_count": 79,
   "id": "8182701c",
   "metadata": {},
   "outputs": [
    {
     "name": "stdout",
     "output_type": "stream",
     "text": [
      "주석?\n"
     ]
    },
    {
     "data": {
      "text/plain": [
       "'이것도 주석이라네!'"
      ]
     },
     "execution_count": 79,
     "metadata": {},
     "output_type": "execute_result"
    }
   ],
   "source": [
    "print(\"주석?\") \n",
    "'''이것도 주석이라네!'''"
   ]
  },
  {
   "cell_type": "markdown",
   "id": "0e068890",
   "metadata": {},
   "source": [
    "## 3.5 논리연산 (Boolean operation)"
   ]
  },
  {
   "cell_type": "code",
   "execution_count": 82,
   "id": "bd91569c",
   "metadata": {},
   "outputs": [
    {
     "name": "stdout",
     "output_type": "stream",
     "text": [
      "True\n"
     ]
    }
   ],
   "source": [
    "print(True) # True와 False는 첫글자를 대문자로!"
   ]
  },
  {
   "cell_type": "code",
   "execution_count": 83,
   "id": "286d4f15",
   "metadata": {},
   "outputs": [
    {
     "name": "stdout",
     "output_type": "stream",
     "text": [
      "False\n"
     ]
    }
   ],
   "source": [
    "print(False)"
   ]
  },
  {
   "cell_type": "code",
   "execution_count": 85,
   "id": "3692aaf3",
   "metadata": {},
   "outputs": [
    {
     "data": {
      "text/plain": [
       "bool"
      ]
     },
     "execution_count": 85,
     "metadata": {},
     "output_type": "execute_result"
    }
   ],
   "source": [
    "type(True)"
   ]
  },
  {
   "cell_type": "code",
   "execution_count": 87,
   "id": "b4bbed6b",
   "metadata": {},
   "outputs": [
    {
     "data": {
      "text/plain": [
       "bool"
      ]
     },
     "execution_count": 87,
     "metadata": {},
     "output_type": "execute_result"
    }
   ],
   "source": [
    "type(False)"
   ]
  },
  {
   "cell_type": "markdown",
   "id": "7267a4d5",
   "metadata": {},
   "source": [
    "### **논리 연산자**\n",
    "#### AND : 모두가 참일 때만 참\n",
    "#### OR   : 둘 중 하나만 참일때도 참\n",
    "#### NOT : A가 참이면 거짓, 거짓이면 참"
   ]
  },
  {
   "cell_type": "markdown",
   "id": "8e7a3297",
   "metadata": {},
   "source": [
    "AND          OR          NOT\n",
    "0 0   0    0 0   0      0   1\n",
    "0 1   0    0 1   1      1   0\n",
    "1 0   0    1 0   1\n",
    "1 1   0    1 1   1"
   ]
  },
  {
   "cell_type": "code",
   "execution_count": 88,
   "id": "4d69d421",
   "metadata": {},
   "outputs": [
    {
     "name": "stdout",
     "output_type": "stream",
     "text": [
      "False\n",
      "True\n",
      "False\n"
     ]
    }
   ],
   "source": [
    "print(True and False) # False 예상\n",
    "print(True or False)  # True 예상\n",
    "print(not True)       # False 예상"
   ]
  },
  {
   "cell_type": "code",
   "execution_count": 91,
   "id": "7e9fe615",
   "metadata": {},
   "outputs": [
    {
     "name": "stdout",
     "output_type": "stream",
     "text": [
      "False\n"
     ]
    }
   ],
   "source": [
    "print(not True and not False)"
   ]
  },
  {
   "cell_type": "markdown",
   "id": "a163b951",
   "metadata": {},
   "source": [
    "### AND 연산자"
   ]
  },
  {
   "cell_type": "code",
   "execution_count": 92,
   "id": "089e4b74",
   "metadata": {},
   "outputs": [
    {
     "name": "stdout",
     "output_type": "stream",
     "text": [
      "False\n",
      "False\n",
      "False\n",
      "True\n"
     ]
    }
   ],
   "source": [
    "print(False and False)\n",
    "print(False and True)\n",
    "print(True and False)\n",
    "print(True and True)"
   ]
  },
  {
   "cell_type": "markdown",
   "id": "2cd44258",
   "metadata": {},
   "source": [
    "### OR 연산자"
   ]
  },
  {
   "cell_type": "code",
   "execution_count": 93,
   "id": "c0c255cc",
   "metadata": {},
   "outputs": [
    {
     "name": "stdout",
     "output_type": "stream",
     "text": [
      "False\n",
      "True\n",
      "True\n",
      "True\n"
     ]
    }
   ],
   "source": [
    "print(False or False)\n",
    "print(False or True)\n",
    "print(True or False)\n",
    "print(True or True)"
   ]
  },
  {
   "cell_type": "markdown",
   "id": "1c89e00f",
   "metadata": {},
   "source": [
    "### NOT 연산자"
   ]
  },
  {
   "cell_type": "code",
   "execution_count": 94,
   "id": "872e2605",
   "metadata": {},
   "outputs": [
    {
     "name": "stdout",
     "output_type": "stream",
     "text": [
      "False\n",
      "True\n"
     ]
    }
   ],
   "source": [
    "print(not True)\n",
    "print(not False)"
   ]
  },
  {
   "cell_type": "markdown",
   "id": "03ebf5f2",
   "metadata": {},
   "source": [
    "### 실제 코드 적용 사례 - 예시"
   ]
  },
  {
   "cell_type": "code",
   "execution_count": 95,
   "id": "a1768f53",
   "metadata": {},
   "outputs": [
    {
     "name": "stdout",
     "output_type": "stream",
     "text": [
      "False\n"
     ]
    }
   ],
   "source": [
    "a = 5\n",
    "b = 3\n",
    "print(a>7 and b>0) #모든 조건을 수용해야 인정"
   ]
  },
  {
   "cell_type": "code",
   "execution_count": 96,
   "id": "68646b26",
   "metadata": {},
   "outputs": [
    {
     "name": "stdout",
     "output_type": "stream",
     "text": [
      "True\n"
     ]
    }
   ],
   "source": [
    "a = 5\n",
    "b = 3\n",
    "print(a>7 or b>0) # 30번 구매하거나 300만원 이상 구매시 vip로 올리기, 이중에 하나라도 만족시 인정"
   ]
  },
  {
   "cell_type": "markdown",
   "id": "0fb4cab1",
   "metadata": {},
   "source": [
    "### 비교 연산자"
   ]
  },
  {
   "cell_type": "code",
   "execution_count": 97,
   "id": "cc62d315",
   "metadata": {},
   "outputs": [
    {
     "name": "stdout",
     "output_type": "stream",
     "text": [
      "False\n",
      "True\n",
      "False\n",
      "True\n",
      "False\n",
      "True\n"
     ]
    }
   ],
   "source": [
    "print(5 == 3)  #같다\n",
    "print(5 != 3)  #같지 않다\n",
    "print(5 < 3)   #보다 작다\n",
    "print(5 > 3)   #보다 크다\n",
    "print(5 <= 3)  #같거나 작다\n",
    "print(5 >= 3)  #크거나 같다"
   ]
  },
  {
   "cell_type": "code",
   "execution_count": 102,
   "id": "3e13dbf0",
   "metadata": {},
   "outputs": [
    {
     "name": "stdout",
     "output_type": "stream",
     "text": [
      "True\n",
      "True\n"
     ]
    }
   ],
   "source": [
    "print(5 == 5)  #같다\n",
    "print(5 != 3)  #같지 않다"
   ]
  },
  {
   "cell_type": "markdown",
   "id": "0b40b316",
   "metadata": {},
   "source": [
    "#### <,>는 자신을 포함하지 않음"
   ]
  },
  {
   "cell_type": "code",
   "execution_count": 103,
   "id": "df335303",
   "metadata": {},
   "outputs": [
    {
     "name": "stdout",
     "output_type": "stream",
     "text": [
      "True\n",
      "True\n"
     ]
    }
   ],
   "source": [
    "print(5 < 8)   #보다 작다\n",
    "print(5 > 3)   #보다 크다"
   ]
  },
  {
   "cell_type": "code",
   "execution_count": 104,
   "id": "2ae89886",
   "metadata": {},
   "outputs": [
    {
     "name": "stdout",
     "output_type": "stream",
     "text": [
      "False\n",
      "False\n"
     ]
    }
   ],
   "source": [
    "print(5 < 5)   #보다 작다\n",
    "print(5 > 5)   #보다 크다"
   ]
  },
  {
   "cell_type": "markdown",
   "id": "2924f8be",
   "metadata": {},
   "source": [
    "#### <=, >=는 자신을 포함하지 않음"
   ]
  },
  {
   "cell_type": "code",
   "execution_count": 106,
   "id": "633ce5a2",
   "metadata": {},
   "outputs": [
    {
     "name": "stdout",
     "output_type": "stream",
     "text": [
      "True\n",
      "True\n"
     ]
    }
   ],
   "source": [
    "print(5 <= 5)  #같거나 작다\n",
    "print(5 <= 10)  #같거나 작다"
   ]
  },
  {
   "cell_type": "code",
   "execution_count": 107,
   "id": "0a5db3d0",
   "metadata": {},
   "outputs": [
    {
     "name": "stdout",
     "output_type": "stream",
     "text": [
      "True\n",
      "True\n"
     ]
    }
   ],
   "source": [
    "print(5 >= 3)  #크거나 같다\n",
    "print(5 >= 5)  #크거나 같다"
   ]
  },
  {
   "cell_type": "markdown",
   "id": "02c920a1",
   "metadata": {},
   "source": [
    "### 비교 연산자의 결과는 불(bool)데이터 형식으로 나온다"
   ]
  },
  {
   "cell_type": "code",
   "execution_count": 108,
   "id": "a1d45833",
   "metadata": {},
   "outputs": [
    {
     "name": "stdout",
     "output_type": "stream",
     "text": [
      "True\n"
     ]
    }
   ],
   "source": [
    "print(1 > 0 and -2 < 0 )"
   ]
  },
  {
   "cell_type": "markdown",
   "id": "c462199e",
   "metadata": {},
   "source": [
    "###  비교연산\n",
    "#### 괄호와 연산이 같이 있으면 괄호가 우선"
   ]
  },
  {
   "cell_type": "code",
   "execution_count": 124,
   "id": "0cf1aa34",
   "metadata": {},
   "outputs": [
    {
     "name": "stdout",
     "output_type": "stream",
     "text": [
      "False\n",
      "True\n",
      "False\n"
     ]
    }
   ],
   "source": [
    "print((3 < 0) and (( -5 > 0 ) and ( 1 > 5 )))                     # F and (F and F) = F\n",
    "print((3 > 0) or (( -5 > 0 ) and ( 1 > 5 )))                      # T or (F and F) = T\n",
    "print(((3 > 0) or ( -5 > 0 )) and (( 4 > 8 ) or ( 3 < 0 )))       #(T  or F ) and (F  or F )= T and F = F"
   ]
  },
  {
   "cell_type": "markdown",
   "id": "235022c0",
   "metadata": {},
   "source": [
    "#### True로 바꾸기"
   ]
  },
  {
   "cell_type": "code",
   "execution_count": 131,
   "id": "1dd02ace",
   "metadata": {},
   "outputs": [
    {
     "name": "stdout",
     "output_type": "stream",
     "text": [
      "True\n",
      "True\n",
      "True\n",
      "True\n"
     ]
    }
   ],
   "source": [
    "print((3 > 0) and (( -5 < 0 ) and ( 1 < 5 )))                      # T and (T and T) = T\n",
    "print((3 > 0) or (( -5 > 0 ) and ( 1 > 5 )))                       # T or (F and F) = T\n",
    "print(((3 > 0) or ( -5 > 0 )) and (( 4 < 8 ) or ( 3 < 0 )))       #(T  or F ) and (T  or F )= T and F = F\n",
    "print(((3 > 0) or ( -5 > 0 )) and not(( 4 > 8 ) or ( 3 < 0 )))    #(T  or F ) and  not(F  or F )= T and T = T"
   ]
  },
  {
   "cell_type": "code",
   "execution_count": null,
   "id": "94286330",
   "metadata": {},
   "outputs": [],
   "source": []
  }
 ],
 "metadata": {
  "kernelspec": {
   "display_name": "Python 3 (ipykernel)",
   "language": "python",
   "name": "python3"
  },
  "language_info": {
   "codemirror_mode": {
    "name": "ipython",
    "version": 3
   },
   "file_extension": ".py",
   "mimetype": "text/x-python",
   "name": "python",
   "nbconvert_exporter": "python",
   "pygments_lexer": "ipython3",
   "version": "3.9.13"
  }
 },
 "nbformat": 4,
 "nbformat_minor": 5
}
